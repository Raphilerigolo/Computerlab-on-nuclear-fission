{
 "cells": [
  {
   "cell_type": "markdown",
   "metadata": {},
   "source": [
    "# Computationnal Labotary 1"
   ]
  },
  {
   "cell_type": "code",
   "execution_count": 1,
   "metadata": {},
   "outputs": [],
   "source": [
    "import numpy as np\n",
    "import matplotlib.pyplot as plt"
   ]
  },
  {
   "cell_type": "markdown",
   "metadata": {},
   "source": [
    "## Graphe of shape"
   ]
  },
  {
   "cell_type": "code",
   "execution_count": null,
   "metadata": {},
   "outputs": [],
   "source": [
    "n = np.arange(1,10)\n",
    "q_pla = np.array([0.71,4.15,4.58,5.06,5.57,6.09,6.90,8.01,9.15])\n",
    "q_ur = np.array([0.89,4.15,4.58,5.06,5.57,6.09,6.9,8.01,9.15])\n",
    "q_flevo = np.array([0,4.35,4.81,5.31,5.83,6.36,7.45,8.58,9.73])\n",
    "\n",
    "plt.figure(figsize=(9, 7))\n",
    "plt.xlabel(\"n\", fontsize = 20)\n",
    "plt.ylabel(r\"$q_2$\", fontsize = 20)\n",
    "plt.xticks(fontsize=20)  \n",
    "plt.yticks(fontsize=20)  \n",
    "plt.grid(True)\n",
    "plt.plot(n,q_pla,'x',label = \"Platinium\", )\n",
    "plt.plot(n,q_ur,'x',label = \"Uranium\")\n",
    "plt.plot(n,q_flevo,'x',label = \"Flerovium\")\n",
    "plt.tight_layout()\n",
    "plt.legend(fontsize = 20)\n",
    "plt.savefig(\"Energies_HO_l_0\")"
   ]
  },
  {
   "cell_type": "markdown",
   "metadata": {},
   "source": [
    "## Calculation of mass and N + Z"
   ]
  },
  {
   "cell_type": "code",
   "execution_count": 3,
   "metadata": {},
   "outputs": [
    {
     "name": "stdout",
     "output_type": "stream",
     "text": [
      "180 : (59.39999999999999, 120.60000000000001)\n",
      "236 : (106.2, 129.8)\n",
      "298 : (131.12, 166.88000000000002)\n"
     ]
    }
   ],
   "source": [
    "alpha_ = np.array([0.34,0.1,0.12])\n",
    "A = np.array([180,236,298])\n",
    "def A_daughter(A,a):\n",
    "    return A*(1-a)/2,A*(1+a)/2\n",
    "\n",
    "for i in range(np.size(A)):    print(f\"{A[i]} : {A_daughter(A[i],alpha_[i])}\")"
   ]
  },
  {
   "cell_type": "code",
   "execution_count": 12,
   "metadata": {},
   "outputs": [
    {
     "name": "stdout",
     "output_type": "stream",
     "text": [
      "N et Z\n",
      "Pluto : [[33.43333333 25.56666667]\n",
      " [68.56666667 52.43333333]]\n",
      "Ur : [[64.6779661 41.3220339]\n",
      " [79.3220339 50.6779661]]\n",
      "Fl  : [[ 80.88590604  50.11409396]\n",
      " [103.11409396  63.88590604]]\n",
      "KE\n",
      "Pluto : KE = 119.82333725170017, KE_v = 80.6041185986172, incertitude  = 0.3273086825373534\n",
      "Ur : KE = 186.71693687835696, KE_v = 223.4836860320363, incertitude  = 0.1969116983620628\n",
      "Fluvo : KE = 256.83597948396573, KE_v = 312.7820463954564, incertitude  = 0.21782799677793346\n"
     ]
    }
   ],
   "source": [
    "# Définition des données\n",
    "A_pluto = np.array([59, 121])\n",
    "A_ur = np.array([106, 130])\n",
    "A_f = np.array([131, 167])\n",
    "C_pluto = 102 / 78\n",
    "C_ur = 144 / 92\n",
    "C_f = 184 / 114\n",
    "e = np.sqrt(1.4399764)\n",
    "r_pluto = 16.11\n",
    "r_ur = 16.15\n",
    "r_f = 17.95\n",
    "\n",
    "# Fonctions pour calculer N et Z\n",
    "def N(A, C):\n",
    "    return A * (C) / (1 + C)\n",
    "\n",
    "def Z(A, C):\n",
    "    return A / (1 + C)\n",
    "\n",
    "def Kinetic_energy(Z1,Z2,r):\n",
    "    return Z1*Z2*e**2/(r)\n",
    "\n",
    "def incertitude(x,y):\n",
    "    return np.abs((x-y)/x)\n",
    "def Kinetic_energy_Viola(A,Z):\n",
    "    return 0.1189*Z**2/pow(A,1/3) + 7.3\n",
    "def N_P(A, C):\n",
    "    k = np.zeros((np.size(A), 2))\n",
    "    for i in range(np.size(A)):\n",
    "        k[i, 0] = N(A[i], C)  # Calcul de N\n",
    "        k[i, 1] = Z(A[i], C)  # Calcul de Z\n",
    "    return k  # Renvoie le tableau de résultats\n",
    "\n",
    "# Calcul des résultats pour chaque élément\n",
    "R_pluto = N_P(A_pluto, C_pluto)\n",
    "R_ur = N_P(A_ur, C_ur)\n",
    "R_f = N_P(A_f, C_f)\n",
    "\n",
    "# Affichage des résultats\n",
    "print(\"N et Z\")\n",
    "print(f\"Pluto : {R_pluto}\")\n",
    "print(f\"Ur : {R_ur}\")\n",
    "print(f\"Fl  : {R_f}\")\n",
    "\n",
    "#Affiche Kinetice energy\n",
    "KE_pluto = Kinetic_energy(R_pluto[0,1],R_pluto[1,1],r_pluto)\n",
    "KE_ur = Kinetic_energy(R_ur[0,1],R_ur[1,1],r_ur)\n",
    "KE_f = Kinetic_energy(R_f[0,1],R_f[1,1],r_f)\n",
    "\n",
    "KE_pluto_v = Kinetic_energy_Viola(A_pluto[0] + A_pluto[1],A_pluto[0])\n",
    "KE_ur_v = Kinetic_energy_Viola(A_ur[0] + A_ur[1],A_ur[0])\n",
    "KE_f_v = Kinetic_energy_Viola(A_f[0] + A_f[1],A_f[0])\n",
    "\n",
    "print(\"KE\")\n",
    "print(f\"Pluto : KE = {KE_pluto}, KE_v = {KE_pluto_v}, incertitude  = {incertitude(KE_pluto,KE_pluto_v)}\")\n",
    "print(f\"Ur : KE = {KE_ur}, KE_v = {KE_ur_v}, incertitude  = {incertitude(KE_ur,KE_ur_v)}\")\n",
    "print(f\"Fluvo : KE = {KE_f}, KE_v = {KE_f_v}, incertitude  = {incertitude(KE_f,KE_f_v)}\")"
   ]
  }
 ],
 "metadata": {
  "kernelspec": {
   "display_name": "Python 3",
   "language": "python",
   "name": "python3"
  },
  "language_info": {
   "codemirror_mode": {
    "name": "ipython",
    "version": 3
   },
   "file_extension": ".py",
   "mimetype": "text/x-python",
   "name": "python",
   "nbconvert_exporter": "python",
   "pygments_lexer": "ipython3",
   "version": "3.11.9"
  }
 },
 "nbformat": 4,
 "nbformat_minor": 2
}
